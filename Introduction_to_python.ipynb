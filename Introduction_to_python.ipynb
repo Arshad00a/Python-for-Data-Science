{
  "nbformat": 4,
  "nbformat_minor": 0,
  "metadata": {
    "colab": {
      "name": "Introduction to python.ipynb",
      "provenance": [],
      "authorship_tag": "ABX9TyN0VS7p0crRcn+AUk2/JFaP",
      "include_colab_link": true
    },
    "kernelspec": {
      "name": "python3",
      "display_name": "Python 3"
    }
  },
  "cells": [
    {
      "cell_type": "markdown",
      "metadata": {
        "id": "view-in-github",
        "colab_type": "text"
      },
      "source": [
        "<a href=\"https://colab.research.google.com/github/Arshad00a/Python-for-Data-Science/blob/master/Introduction_to_python.ipynb\" target=\"_parent\"><img src=\"https://colab.research.google.com/assets/colab-badge.svg\" alt=\"Open In Colab\"/></a>"
      ]
    },
    {
      "cell_type": "code",
      "metadata": {
        "id": "36GwNrHExe7i",
        "colab_type": "code",
        "colab": {}
      },
      "source": [
        ""
      ],
      "execution_count": 0,
      "outputs": []
    },
    {
      "cell_type": "markdown",
      "metadata": {
        "id": "PrGGFHJuLuuc",
        "colab_type": "text"
      },
      "source": [
        "This is my first jupyter notebooks."
      ]
    },
    {
      "cell_type": "code",
      "metadata": {
        "id": "fwJZJqkBL15M",
        "colab_type": "code",
        "colab": {}
      },
      "source": [
        ""
      ],
      "execution_count": 0,
      "outputs": []
    },
    {
      "cell_type": "code",
      "metadata": {
        "id": "7Vu1CSecNZOl",
        "colab_type": "code",
        "colab": {}
      },
      "source": [
        "name = \"Arshad\"\n",
        "\n",
        "#this is a variable of type string"
      ],
      "execution_count": 0,
      "outputs": []
    },
    {
      "cell_type": "code",
      "metadata": {
        "id": "GqK2GtDYNbzn",
        "colab_type": "code",
        "outputId": "8217b4da-8936-4559-a08f-23cfcb27b7c7",
        "colab": {
          "base_uri": "https://localhost:8080/",
          "height": 34
        }
      },
      "source": [
        "name"
      ],
      "execution_count": 0,
      "outputs": [
        {
          "output_type": "execute_result",
          "data": {
            "text/plain": [
              "'Arshad'"
            ]
          },
          "metadata": {
            "tags": []
          },
          "execution_count": 2
        }
      ]
    },
    {
      "cell_type": "code",
      "metadata": {
        "id": "Za6MAuaqPCwv",
        "colab_type": "code",
        "colab": {}
      },
      "source": [
        "#form of Number\n",
        "\n",
        "age = 24"
      ],
      "execution_count": 0,
      "outputs": []
    },
    {
      "cell_type": "code",
      "metadata": {
        "id": "WpVvDJgGRObQ",
        "colab_type": "code",
        "outputId": "d494e148-77b0-4784-9bac-594e321aac1a",
        "colab": {
          "base_uri": "https://localhost:8080/",
          "height": 34
        }
      },
      "source": [
        "age\n"
      ],
      "execution_count": 0,
      "outputs": [
        {
          "output_type": "execute_result",
          "data": {
            "text/plain": [
              "24"
            ]
          },
          "metadata": {
            "tags": []
          },
          "execution_count": 7
        }
      ]
    },
    {
      "cell_type": "code",
      "metadata": {
        "id": "7uTVgCucRRRU",
        "colab_type": "code",
        "colab": {}
      },
      "source": [
        "var = \"Arshad23\""
      ],
      "execution_count": 0,
      "outputs": []
    },
    {
      "cell_type": "code",
      "metadata": {
        "id": "tFV59adgRyeV",
        "colab_type": "code",
        "outputId": "1b451bef-3e37-4481-bfee-e73d2d708641",
        "colab": {
          "base_uri": "https://localhost:8080/",
          "height": 34
        }
      },
      "source": [
        "var"
      ],
      "execution_count": 0,
      "outputs": [
        {
          "output_type": "execute_result",
          "data": {
            "text/plain": [
              "'Arshad23'"
            ]
          },
          "metadata": {
            "tags": []
          },
          "execution_count": 9
        }
      ]
    },
    {
      "cell_type": "code",
      "metadata": {
        "id": "otAqAgPsRzOm",
        "colab_type": "code",
        "outputId": "6c48ad44-9c71-4bf0-ef67-b166cf6d7c5b",
        "colab": {
          "base_uri": "https://localhost:8080/",
          "height": 68
        }
      },
      "source": [
        "# print Multiple variables\n",
        "\n",
        "print(name)\n",
        "print(age)\n",
        "print(var)\n"
      ],
      "execution_count": 0,
      "outputs": [
        {
          "output_type": "stream",
          "text": [
            "Arshad\n",
            "24\n",
            "Arshad23\n"
          ],
          "name": "stdout"
        }
      ]
    },
    {
      "cell_type": "code",
      "metadata": {
        "id": "rt73LaDGSNTk",
        "colab_type": "code",
        "colab": {}
      },
      "source": [
        "#boolean variable\n",
        "male= True \n",
        "#A boolean value always starts with a capital letter"
      ],
      "execution_count": 0,
      "outputs": []
    },
    {
      "cell_type": "code",
      "metadata": {
        "id": "Yi5HzayyTgCn",
        "colab_type": "code",
        "outputId": "0ff9e74b-5dfd-4fd7-9c9d-40051ac53952",
        "colab": {
          "base_uri": "https://localhost:8080/",
          "height": 34
        }
      },
      "source": [
        "male"
      ],
      "execution_count": 0,
      "outputs": [
        {
          "output_type": "execute_result",
          "data": {
            "text/plain": [
              "True"
            ]
          },
          "metadata": {
            "tags": []
          },
          "execution_count": 12
        }
      ]
    },
    {
      "cell_type": "code",
      "metadata": {
        "id": "tRROjB5UTg7n",
        "colab_type": "code",
        "colab": {}
      },
      "source": [
        "#Floating Numbers\n",
        "Percentage = 79.82"
      ],
      "execution_count": 0,
      "outputs": []
    },
    {
      "cell_type": "code",
      "metadata": {
        "id": "RdDWMyOTUJRm",
        "colab_type": "code",
        "outputId": "48fe5c78-1102-42de-f61b-b371dd6e5c95",
        "colab": {
          "base_uri": "https://localhost:8080/",
          "height": 34
        }
      },
      "source": [
        "Percentage"
      ],
      "execution_count": 0,
      "outputs": [
        {
          "output_type": "execute_result",
          "data": {
            "text/plain": [
              "79.82"
            ]
          },
          "metadata": {
            "tags": []
          },
          "execution_count": 15
        }
      ]
    },
    {
      "cell_type": "code",
      "metadata": {
        "id": "MvF9P9JNULA2",
        "colab_type": "code",
        "colab": {}
      },
      "source": [
        "#lists stores a group of value seperated by coma within Square brackets\n",
        "marks =[12,23,34,45,5667,'Arshad',12.3,'Arshad123',Percentage]"
      ],
      "execution_count": 0,
      "outputs": []
    },
    {
      "cell_type": "code",
      "metadata": {
        "id": "VSpFIGcOenCG",
        "colab_type": "code",
        "outputId": "39160a6d-a95d-4e94-8165-d04c48a2f1c8",
        "colab": {
          "base_uri": "https://localhost:8080/",
          "height": 34
        }
      },
      "source": [
        "len(marks)"
      ],
      "execution_count": 0,
      "outputs": [
        {
          "output_type": "execute_result",
          "data": {
            "text/plain": [
              "9"
            ]
          },
          "metadata": {
            "tags": []
          },
          "execution_count": 51
        }
      ]
    },
    {
      "cell_type": "code",
      "metadata": {
        "id": "aLKztNV2f51r",
        "colab_type": "code",
        "outputId": "0d22c4a0-a2d3-4781-a518-68502aa10f82",
        "colab": {
          "base_uri": "https://localhost:8080/",
          "height": 34
        }
      },
      "source": [
        "type(marks)"
      ],
      "execution_count": 0,
      "outputs": [
        {
          "output_type": "execute_result",
          "data": {
            "text/plain": [
              "list"
            ]
          },
          "metadata": {
            "tags": []
          },
          "execution_count": 52
        }
      ]
    },
    {
      "cell_type": "code",
      "metadata": {
        "id": "XlnoknBfVJuO",
        "colab_type": "code",
        "outputId": "6ed9724f-5311-4624-ea07-7ff2d83496d4",
        "colab": {
          "base_uri": "https://localhost:8080/",
          "height": 34
        }
      },
      "source": [
        "marks"
      ],
      "execution_count": 0,
      "outputs": [
        {
          "output_type": "execute_result",
          "data": {
            "text/plain": [
              "[12, 23, 34, 45, 5667, 'Arshad', 12.3, 'Arshad123', 79.82]"
            ]
          },
          "metadata": {
            "tags": []
          },
          "execution_count": 19
        }
      ]
    },
    {
      "cell_type": "code",
      "metadata": {
        "id": "F5OO1S2eVKj3",
        "colab_type": "code",
        "outputId": "8c65683d-910f-44fb-f903-f8fa5b13a05a",
        "colab": {
          "base_uri": "https://localhost:8080/",
          "height": 34
        }
      },
      "source": [
        "marks[5]"
      ],
      "execution_count": 0,
      "outputs": [
        {
          "output_type": "execute_result",
          "data": {
            "text/plain": [
              "'Arshad'"
            ]
          },
          "metadata": {
            "tags": []
          },
          "execution_count": 20
        }
      ]
    },
    {
      "cell_type": "code",
      "metadata": {
        "id": "ZBr-PElHWJ8g",
        "colab_type": "code",
        "colab": {}
      },
      "source": [
        "#Dictionary stores all data type with keys and calues within curly bracket"
      ],
      "execution_count": 0,
      "outputs": []
    },
    {
      "cell_type": "code",
      "metadata": {
        "id": "s8Uapu3ZZBcb",
        "colab_type": "code",
        "colab": {}
      },
      "source": [
        "Education = {'tenth':79.82,'Twelth':60,'name':'Arshad','male':True}"
      ],
      "execution_count": 0,
      "outputs": []
    },
    {
      "cell_type": "code",
      "metadata": {
        "id": "5T9XFSR2ZOnZ",
        "colab_type": "code",
        "outputId": "ef7821d8-9ecb-46a8-da53-71a6ef7fba39",
        "colab": {
          "base_uri": "https://localhost:8080/",
          "height": 34
        }
      },
      "source": [
        "Education"
      ],
      "execution_count": 0,
      "outputs": [
        {
          "output_type": "execute_result",
          "data": {
            "text/plain": [
              "{'Twelth': 60, 'male': True, 'name': 'Arshad', 'tenth': 79.82}"
            ]
          },
          "metadata": {
            "tags": []
          },
          "execution_count": 25
        }
      ]
    },
    {
      "cell_type": "code",
      "metadata": {
        "id": "JW1Jif-kZT9s",
        "colab_type": "code",
        "outputId": "b9824c2a-2485-4b72-daed-95c19eb5319e",
        "colab": {
          "base_uri": "https://localhost:8080/",
          "height": 34
        }
      },
      "source": [
        "Education['tenth']"
      ],
      "execution_count": 0,
      "outputs": [
        {
          "output_type": "execute_result",
          "data": {
            "text/plain": [
              "79.82"
            ]
          },
          "metadata": {
            "tags": []
          },
          "execution_count": 26
        }
      ]
    },
    {
      "cell_type": "code",
      "metadata": {
        "id": "v0ANin5SZdsd",
        "colab_type": "code",
        "outputId": "fe562a48-c601-44ee-f050-22d613b4d8c2",
        "colab": {
          "base_uri": "https://localhost:8080/",
          "height": 34
        }
      },
      "source": [
        "#print only keys\n",
        "Education.keys()"
      ],
      "execution_count": 0,
      "outputs": [
        {
          "output_type": "execute_result",
          "data": {
            "text/plain": [
              "dict_keys(['tenth', 'Twelth', 'name', 'male'])"
            ]
          },
          "metadata": {
            "tags": []
          },
          "execution_count": 28
        }
      ]
    },
    {
      "cell_type": "code",
      "metadata": {
        "id": "DZEKbbsVZ0w3",
        "colab_type": "code",
        "colab": {}
      },
      "source": [
        "#make a Dictionary containing a list of marks of 3 students\n",
        "\n",
        "Students = {'stu1':[12,23,34], 'stu2':[67,78,89],'st3':[657,67,89]}"
      ],
      "execution_count": 0,
      "outputs": []
    },
    {
      "cell_type": "code",
      "metadata": {
        "id": "AgrnXBqydFzx",
        "colab_type": "code",
        "outputId": "b1df0bf8-e760-4de7-8106-7c17da8fb0a2",
        "colab": {
          "base_uri": "https://localhost:8080/",
          "height": 34
        }
      },
      "source": [
        "#printout the graduation score of the second students\n",
        "Students['stu2'][-1]\n",
        "# if  we put -1 it wil take the last value and -2 second last value"
      ],
      "execution_count": 0,
      "outputs": [
        {
          "output_type": "execute_result",
          "data": {
            "text/plain": [
              "89"
            ]
          },
          "metadata": {
            "tags": []
          },
          "execution_count": 47
        }
      ]
    },
    {
      "cell_type": "code",
      "metadata": {
        "id": "tGIcNYg_blrQ",
        "colab_type": "code",
        "outputId": "2951b215-3fb4-4bc1-a3b8-444dd652e1e3",
        "colab": {
          "base_uri": "https://localhost:8080/",
          "height": 34
        }
      },
      "source": [
        "Students\n"
      ],
      "execution_count": 0,
      "outputs": [
        {
          "output_type": "execute_result",
          "data": {
            "text/plain": [
              "{'st3': [657, 67, 89], 'stu1': [12, 23, 34], 'stu2': [67, 78, 89]}"
            ]
          },
          "metadata": {
            "tags": []
          },
          "execution_count": 42
        }
      ]
    },
    {
      "cell_type": "code",
      "metadata": {
        "id": "SkN-5tAJbnj-",
        "colab_type": "code",
        "colab": {}
      },
      "source": [
        "# make a list containing a dictionary\n",
        "\n",
        "friends = [{'st1name':'Arshad','st1srname':'Ansari'},{'st1name':'Naved','st2surname':'potla'}]"
      ],
      "execution_count": 0,
      "outputs": []
    },
    {
      "cell_type": "code",
      "metadata": {
        "id": "6JtPHoXJcYk9",
        "colab_type": "code",
        "outputId": "8049eac2-3bde-45e2-80ac-7044cae99bda",
        "colab": {
          "base_uri": "https://localhost:8080/",
          "height": 51
        }
      },
      "source": [
        "friends"
      ],
      "execution_count": 0,
      "outputs": [
        {
          "output_type": "execute_result",
          "data": {
            "text/plain": [
              "[{'st1name': 'Arshad', 'st1srname': 'Ansari'},\n",
              " {'st1name': 'Naved', 'st2surname': 'potla'}]"
            ]
          },
          "metadata": {
            "tags": []
          },
          "execution_count": 34
        }
      ]
    },
    {
      "cell_type": "code",
      "metadata": {
        "id": "Z8Tc4nh1cZku",
        "colab_type": "code",
        "outputId": "4c2efdd6-22c3-424a-a6ad-681f8c8df79f",
        "colab": {
          "base_uri": "https://localhost:8080/",
          "height": 34
        }
      },
      "source": [
        "type(friends[1])\n",
        "# here friends is list but the friends[0] is dictionary"
      ],
      "execution_count": 0,
      "outputs": [
        {
          "output_type": "execute_result",
          "data": {
            "text/plain": [
              "dict"
            ]
          },
          "metadata": {
            "tags": []
          },
          "execution_count": 56
        }
      ]
    },
    {
      "cell_type": "code",
      "metadata": {
        "id": "kxA70-kSgAxQ",
        "colab_type": "code",
        "outputId": "7bb4a683-d933-4b9d-f347-bfb8fbe53b79",
        "colab": {
          "base_uri": "https://localhost:8080/",
          "height": 34
        }
      },
      "source": [
        "type(marks)"
      ],
      "execution_count": 0,
      "outputs": [
        {
          "output_type": "execute_result",
          "data": {
            "text/plain": [
              "list"
            ]
          },
          "metadata": {
            "tags": []
          },
          "execution_count": 57
        }
      ]
    },
    {
      "cell_type": "code",
      "metadata": {
        "id": "23UIcvNWir7l",
        "colab_type": "code",
        "colab": {}
      },
      "source": [
        "#create a new list with names of 3 friends, print it and add the fourth one\n",
        "\n",
        "my_friends=['Arshad','Naved','Azhar']\n"
      ],
      "execution_count": 0,
      "outputs": []
    },
    {
      "cell_type": "code",
      "metadata": {
        "id": "NRhzWspei_9I",
        "colab_type": "code",
        "outputId": "0864467b-60c5-458e-91b2-04f519e73eeb",
        "colab": {
          "base_uri": "https://localhost:8080/",
          "height": 34
        }
      },
      "source": [
        "my_friends"
      ],
      "execution_count": 0,
      "outputs": [
        {
          "output_type": "execute_result",
          "data": {
            "text/plain": [
              "['Arshad', 'Naved', 'Azhar']"
            ]
          },
          "metadata": {
            "tags": []
          },
          "execution_count": 59
        }
      ]
    },
    {
      "cell_type": "code",
      "metadata": {
        "id": "bzlIFvLgjBW8",
        "colab_type": "code",
        "colab": {}
      },
      "source": [
        "my_friends.append(['Shubham','Ansari'])"
      ],
      "execution_count": 0,
      "outputs": []
    },
    {
      "cell_type": "code",
      "metadata": {
        "id": "kvsIMnbdjFq_",
        "colab_type": "code",
        "outputId": "bcf222d8-0038-4445-bc50-61eb1a8d1052",
        "colab": {
          "base_uri": "https://localhost:8080/",
          "height": 34
        }
      },
      "source": [
        "my_friends"
      ],
      "execution_count": 0,
      "outputs": [
        {
          "output_type": "execute_result",
          "data": {
            "text/plain": [
              "['Arshad', 'Naved', 'Azhar', 'Shubham', ['Shubham', 'Ansari']]"
            ]
          },
          "metadata": {
            "tags": []
          },
          "execution_count": 64
        }
      ]
    },
    {
      "cell_type": "code",
      "metadata": {
        "id": "O3_kzrYljHJY",
        "colab_type": "code",
        "colab": {}
      },
      "source": [
        "my_friends[0]='Faisal'"
      ],
      "execution_count": 0,
      "outputs": []
    },
    {
      "cell_type": "code",
      "metadata": {
        "id": "4NEsckdnkzjl",
        "colab_type": "code",
        "outputId": "0926acfe-bdd6-4a42-8117-6476ea881766",
        "colab": {
          "base_uri": "https://localhost:8080/",
          "height": 34
        }
      },
      "source": [
        "my_friends"
      ],
      "execution_count": 0,
      "outputs": [
        {
          "output_type": "execute_result",
          "data": {
            "text/plain": [
              "['Faisal', 'Naved', 'Azhar', 'Shubham', ['Shubham', 'Ansari']]"
            ]
          },
          "metadata": {
            "tags": []
          },
          "execution_count": 66
        }
      ]
    },
    {
      "cell_type": "code",
      "metadata": {
        "id": "F0fjDCLbk1Hp",
        "colab_type": "code",
        "colab": {}
      },
      "source": [
        "my_friends.remove('Shubham')"
      ],
      "execution_count": 0,
      "outputs": []
    },
    {
      "cell_type": "code",
      "metadata": {
        "id": "EQqgt6VBlbmf",
        "colab_type": "code",
        "outputId": "50efa41a-449c-4a91-b348-8ee2bdc3ca11",
        "colab": {
          "base_uri": "https://localhost:8080/",
          "height": 34
        }
      },
      "source": [
        "my_friends"
      ],
      "execution_count": 0,
      "outputs": [
        {
          "output_type": "execute_result",
          "data": {
            "text/plain": [
              "['Faisal', 'Naved', 'Azhar', ['Shubham', 'Ansari']]"
            ]
          },
          "metadata": {
            "tags": []
          },
          "execution_count": 69
        }
      ]
    },
    {
      "cell_type": "code",
      "metadata": {
        "id": "ViZFhcTxlgnI",
        "colab_type": "code",
        "colab": {}
      },
      "source": [
        "my_friends.remove(['Shubham','Ansari'])"
      ],
      "execution_count": 0,
      "outputs": []
    },
    {
      "cell_type": "code",
      "metadata": {
        "id": "SGvKXCrilofp",
        "colab_type": "code",
        "outputId": "8bcf75b3-c566-4a9a-9765-7b82a7b66931",
        "colab": {
          "base_uri": "https://localhost:8080/",
          "height": 34
        }
      },
      "source": [
        "my_friends"
      ],
      "execution_count": 0,
      "outputs": [
        {
          "output_type": "execute_result",
          "data": {
            "text/plain": [
              "['Faisal', 'Naved', 'Azhar']"
            ]
          },
          "metadata": {
            "tags": []
          },
          "execution_count": 71
        }
      ]
    },
    {
      "cell_type": "code",
      "metadata": {
        "id": "XgR77C0blp__",
        "colab_type": "code",
        "colab": {}
      },
      "source": [
        "my_friends[0]='Arshad'"
      ],
      "execution_count": 0,
      "outputs": []
    },
    {
      "cell_type": "code",
      "metadata": {
        "id": "-B8AYdZ8lvP2",
        "colab_type": "code",
        "outputId": "0484699c-ff31-44fc-b24d-a1724e6c623d",
        "colab": {
          "base_uri": "https://localhost:8080/",
          "height": 34
        }
      },
      "source": [
        "my_friends"
      ],
      "execution_count": 0,
      "outputs": [
        {
          "output_type": "execute_result",
          "data": {
            "text/plain": [
              "['Arshad', 'Naved', 'Azhar']"
            ]
          },
          "metadata": {
            "tags": []
          },
          "execution_count": 73
        }
      ]
    },
    {
      "cell_type": "code",
      "metadata": {
        "id": "iq4S0iSNlw-N",
        "colab_type": "code",
        "colab": {}
      },
      "source": [
        ""
      ],
      "execution_count": 0,
      "outputs": []
    }
  ]
}